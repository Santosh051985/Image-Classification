{
 "cells": [
  {
   "cell_type": "code",
   "execution_count": 24,
   "metadata": {},
   "outputs": [],
   "source": [
    "from keras.datasets import mnist"
   ]
  },
  {
   "cell_type": "code",
   "execution_count": 25,
   "metadata": {},
   "outputs": [],
   "source": [
    "#loading Data Set\n",
    "(X_train, Y_train), (X_test,y_test)=  mnist.load_data()"
   ]
  },
  {
   "cell_type": "code",
   "execution_count": 26,
   "metadata": {},
   "outputs": [
    {
     "name": "stdout",
     "output_type": "stream",
     "text": [
      "X_trian Shape [[[0 0 0 ... 0 0 0]\n",
      "  [0 0 0 ... 0 0 0]\n",
      "  [0 0 0 ... 0 0 0]\n",
      "  ...\n",
      "  [0 0 0 ... 0 0 0]\n",
      "  [0 0 0 ... 0 0 0]\n",
      "  [0 0 0 ... 0 0 0]]\n",
      "\n",
      " [[0 0 0 ... 0 0 0]\n",
      "  [0 0 0 ... 0 0 0]\n",
      "  [0 0 0 ... 0 0 0]\n",
      "  ...\n",
      "  [0 0 0 ... 0 0 0]\n",
      "  [0 0 0 ... 0 0 0]\n",
      "  [0 0 0 ... 0 0 0]]\n",
      "\n",
      " [[0 0 0 ... 0 0 0]\n",
      "  [0 0 0 ... 0 0 0]\n",
      "  [0 0 0 ... 0 0 0]\n",
      "  ...\n",
      "  [0 0 0 ... 0 0 0]\n",
      "  [0 0 0 ... 0 0 0]\n",
      "  [0 0 0 ... 0 0 0]]\n",
      "\n",
      " ...\n",
      "\n",
      " [[0 0 0 ... 0 0 0]\n",
      "  [0 0 0 ... 0 0 0]\n",
      "  [0 0 0 ... 0 0 0]\n",
      "  ...\n",
      "  [0 0 0 ... 0 0 0]\n",
      "  [0 0 0 ... 0 0 0]\n",
      "  [0 0 0 ... 0 0 0]]\n",
      "\n",
      " [[0 0 0 ... 0 0 0]\n",
      "  [0 0 0 ... 0 0 0]\n",
      "  [0 0 0 ... 0 0 0]\n",
      "  ...\n",
      "  [0 0 0 ... 0 0 0]\n",
      "  [0 0 0 ... 0 0 0]\n",
      "  [0 0 0 ... 0 0 0]]\n",
      "\n",
      " [[0 0 0 ... 0 0 0]\n",
      "  [0 0 0 ... 0 0 0]\n",
      "  [0 0 0 ... 0 0 0]\n",
      "  ...\n",
      "  [0 0 0 ... 0 0 0]\n",
      "  [0 0 0 ... 0 0 0]\n",
      "  [0 0 0 ... 0 0 0]]]\n",
      "X_train Shape (60000, 28, 28)\n",
      "X_trian Shape [[[0 0 0 ... 0 0 0]\n",
      "  [0 0 0 ... 0 0 0]\n",
      "  [0 0 0 ... 0 0 0]\n",
      "  ...\n",
      "  [0 0 0 ... 0 0 0]\n",
      "  [0 0 0 ... 0 0 0]\n",
      "  [0 0 0 ... 0 0 0]]\n",
      "\n",
      " [[0 0 0 ... 0 0 0]\n",
      "  [0 0 0 ... 0 0 0]\n",
      "  [0 0 0 ... 0 0 0]\n",
      "  ...\n",
      "  [0 0 0 ... 0 0 0]\n",
      "  [0 0 0 ... 0 0 0]\n",
      "  [0 0 0 ... 0 0 0]]\n",
      "\n",
      " [[0 0 0 ... 0 0 0]\n",
      "  [0 0 0 ... 0 0 0]\n",
      "  [0 0 0 ... 0 0 0]\n",
      "  ...\n",
      "  [0 0 0 ... 0 0 0]\n",
      "  [0 0 0 ... 0 0 0]\n",
      "  [0 0 0 ... 0 0 0]]\n",
      "\n",
      " ...\n",
      "\n",
      " [[0 0 0 ... 0 0 0]\n",
      "  [0 0 0 ... 0 0 0]\n",
      "  [0 0 0 ... 0 0 0]\n",
      "  ...\n",
      "  [0 0 0 ... 0 0 0]\n",
      "  [0 0 0 ... 0 0 0]\n",
      "  [0 0 0 ... 0 0 0]]\n",
      "\n",
      " [[0 0 0 ... 0 0 0]\n",
      "  [0 0 0 ... 0 0 0]\n",
      "  [0 0 0 ... 0 0 0]\n",
      "  ...\n",
      "  [0 0 0 ... 0 0 0]\n",
      "  [0 0 0 ... 0 0 0]\n",
      "  [0 0 0 ... 0 0 0]]\n",
      "\n",
      " [[0 0 0 ... 0 0 0]\n",
      "  [0 0 0 ... 0 0 0]\n",
      "  [0 0 0 ... 0 0 0]\n",
      "  ...\n",
      "  [0 0 0 ... 0 0 0]\n",
      "  [0 0 0 ... 0 0 0]\n",
      "  [0 0 0 ... 0 0 0]]]\n",
      "X_train Shape (60000, 28, 28)\n"
     ]
    }
   ],
   "source": [
    "# print Dataset shape\n",
    "print(\"X_trian Shape\", X_train)\n",
    "print(\"X_train Shape\", X_train.shape)"
   ]
  },
  {
   "cell_type": "code",
   "execution_count": 27,
   "metadata": {},
   "outputs": [
    {
     "name": "stdout",
     "output_type": "stream",
     "text": [
      "X_test shape (10000, 28, 28)\n",
      "Y_train shape (60000,)\n",
      "y_test Shape (10000,)\n",
      "X_test shape (10000, 28, 28)\n",
      "Y_train shape (60000,)\n",
      "y_test Shape (10000,)\n"
     ]
    }
   ],
   "source": [
    "print(\"X_test shape\", X_test.shape)\n",
    "print(\"Y_train shape\", Y_train.shape)\n",
    "print(\"y_test Shape\", y_test.shape)"
   ]
  },
  {
   "cell_type": "code",
   "execution_count": 28,
   "metadata": {},
   "outputs": [],
   "source": [
    "from keras.models import Sequential\n",
    "from keras.layers import Dense,Dropout,Conv2D,MaxPool2D, Flatten\n",
    "from keras.utils import np_utils"
   ]
  },
  {
   "cell_type": "code",
   "execution_count": 29,
   "metadata": {},
   "outputs": [],
   "source": [
    "#Flatting image from 28x28 pixels to 1D 787 pixels\n",
    "X_train = X_train.reshape(60000,784)"
   ]
  },
  {
   "cell_type": "code",
   "execution_count": 30,
   "metadata": {},
   "outputs": [],
   "source": [
    "X_test = X_test.reshape(10000,784)"
   ]
  },
  {
   "cell_type": "code",
   "execution_count": 31,
   "metadata": {},
   "outputs": [],
   "source": [
    "Y_train= Y_train.astype('float32')"
   ]
  },
  {
   "cell_type": "code",
   "execution_count": 32,
   "metadata": {},
   "outputs": [],
   "source": [
    "y_test = y_test.astype('float32')"
   ]
  },
  {
   "cell_type": "code",
   "execution_count": 33,
   "metadata": {},
   "outputs": [],
   "source": [
    "#normalize the data to help with training\n",
    "X_train = X_train/255\n",
    "X_test = X_test/255"
   ]
  },
  {
   "cell_type": "code",
   "execution_count": 34,
   "metadata": {},
   "outputs": [
    {
     "name": "stdout",
     "output_type": "stream",
     "text": [
      "Shape before one hot encoding:  (60000,)\n",
      "Shape before one hot encoding:  (60000,)\n"
     ]
    }
   ],
   "source": [
    "#One hot encoding using keras numpy related utilities\n",
    "n_classes = 10\n",
    "print(\"Shape before one hot encoding: \", Y_train.shape)"
   ]
  },
  {
   "cell_type": "code",
   "execution_count": 35,
   "metadata": {},
   "outputs": [],
   "source": [
    "Y_train =np_utils.to_categorical(Y_train, n_classes)"
   ]
  },
  {
   "cell_type": "code",
   "execution_count": 36,
   "metadata": {},
   "outputs": [],
   "source": [
    "y_test = np_utils.to_categorical(y_test,n_classes)"
   ]
  },
  {
   "cell_type": "code",
   "execution_count": 37,
   "metadata": {},
   "outputs": [
    {
     "name": "stdout",
     "output_type": "stream",
     "text": [
      " Shape after one hot encoding: (60000, 10)\n",
      " Shape after one hot encoding: (60000, 10)\n"
     ]
    }
   ],
   "source": [
    "print(\" Shape after one hot encoding:\", Y_train.shape)"
   ]
  },
  {
   "cell_type": "code",
   "execution_count": 38,
   "metadata": {},
   "outputs": [],
   "source": [
    "# Building a linear stack of layers with the sequential model\n",
    "model = Sequential()"
   ]
  },
  {
   "cell_type": "code",
   "execution_count": 39,
   "metadata": {},
   "outputs": [],
   "source": [
    "# Hidden layer\n",
    "model.add(Dense(100,input_shape=(784,),activation='relu'))"
   ]
  },
  {
   "cell_type": "code",
   "execution_count": 40,
   "metadata": {},
   "outputs": [],
   "source": [
    "# OutPut Layer\n",
    "model.add(Dense(10,activation ='softmax'))"
   ]
  },
  {
   "cell_type": "code",
   "execution_count": 41,
   "metadata": {},
   "outputs": [
    {
     "name": "stdout",
     "output_type": "stream",
     "text": [
      "Model: \"sequential_2\"\n",
      "_________________________________________________________________\n",
      "Layer (type)                 Output Shape              Param #   \n",
      "=================================================================\n",
      "dense_3 (Dense)              (None, 100)               78500     \n",
      "_________________________________________________________________\n",
      "dense_4 (Dense)              (None, 10)                1010      \n",
      "=================================================================\n",
      "Total params: 79,510\n",
      "Trainable params: 79,510\n",
      "Non-trainable params: 0\n",
      "_________________________________________________________________\n",
      "Model: \"sequential_2\"\n",
      "_________________________________________________________________\n",
      "Layer (type)                 Output Shape              Param #   \n",
      "=================================================================\n",
      "dense_3 (Dense)              (None, 100)               78500     \n",
      "_________________________________________________________________\n",
      "dense_4 (Dense)              (None, 10)                1010      \n",
      "=================================================================\n",
      "Total params: 79,510\n",
      "Trainable params: 79,510\n",
      "Non-trainable params: 0\n",
      "_________________________________________________________________\n"
     ]
    }
   ],
   "source": [
    "# looking at model summary\n",
    "model.summary()"
   ]
  },
  {
   "cell_type": "code",
   "execution_count": 42,
   "metadata": {},
   "outputs": [],
   "source": [
    "# compiling the sequential model\n",
    "model.compile(loss='categorical_crossentropy', metrics=['accuracy'], optimizer='adam')"
   ]
  },
  {
   "cell_type": "code",
   "execution_count": 43,
   "metadata": {},
   "outputs": [
    {
     "name": "stdout",
     "output_type": "stream",
     "text": [
      "Train on 60000 samples, validate on 10000 samples\n",
      "Epoch 1/10\n",
      "  128/60000 [..............................] - ETA: 1:18 - loss: 2.2464 - accuracy: 0.1484Train on 60000 samples, validate on 10000 samples\n",
      "Epoch 1/10\n",
      "60000/60000 [==============================] - 3s 52us/step - loss: 0.3758 - accuracy: 0.8984 - val_loss: 0.2064 - val_accuracy: 0.9416\n",
      "60000/60000 [==============================] - 3s 52us/step - loss: 0.3758 - accuracy: 0.8984 - val_loss: 0.2064 - val_accuracy: 0.9416\n",
      "Epoch 2/10\n",
      "  128/60000 [..............................] - ETA: 5s - loss: 0.2198 - accuracy: 0.9531Epoch 2/10\n",
      "60000/60000 [==============================] - 3s 51us/step - loss: 0.1779 - accuracy: 0.9501 - val_loss: 0.1515 - val_accuracy: 0.9569\n",
      "60000/60000 [==============================] - 3s 51us/step - loss: 0.1779 - accuracy: 0.9501 - val_loss: 0.1515 - val_accuracy: 0.9569\n",
      "Epoch 3/10\n",
      "  128/60000 [..............................] - ETA: 2s - loss: 0.0661 - accuracy: 0.9844Epoch 3/10\n",
      "60000/60000 [==============================] - 3s 49us/step - loss: 0.1309 - accuracy: 0.9629 - val_loss: 0.1202 - val_accuracy: 0.9638\n",
      "60000/60000 [==============================] - 3s 49us/step - loss: 0.1309 - accuracy: 0.9629 - val_loss: 0.1202 - val_accuracy: 0.9638\n",
      "Epoch 4/10\n",
      "  128/60000 [..............................] - ETA: 4s - loss: 0.1487 - accuracy: 0.9531Epoch 4/10\n",
      "60000/60000 [==============================] - 3s 52us/step - loss: 0.1028 - accuracy: 0.9710 - val_loss: 0.1069 - val_accuracy: 0.9671\n",
      "60000/60000 [==============================] - 3s 52us/step - loss: 0.1028 - accuracy: 0.9710 - val_loss: 0.1069 - val_accuracy: 0.9671\n",
      "Epoch 5/10\n",
      "  128/60000 [..............................] - ETA: 4s - loss: 0.0668 - accuracy: 0.9922Epoch 5/10\n",
      "60000/60000 [==============================] - 3s 51us/step - loss: 0.0852 - accuracy: 0.9756 - val_loss: 0.0955 - val_accuracy: 0.9706\n",
      "60000/60000 [==============================] - 3s 51us/step - loss: 0.0852 - accuracy: 0.9756 - val_loss: 0.0955 - val_accuracy: 0.9706\n",
      "Epoch 6/10\n",
      "  128/60000 [..............................] - ETA: 4s - loss: 0.1172 - accuracy: 0.9766Epoch 6/10\n",
      "60000/60000 [==============================] - 3s 50us/step - loss: 0.0715 - accuracy: 0.9797 - val_loss: 0.0870 - val_accuracy: 0.9739\n",
      "60000/60000 [==============================] - 3s 50us/step - loss: 0.0715 - accuracy: 0.9797 - val_loss: 0.0870 - val_accuracy: 0.9739\n",
      "Epoch 7/10\n",
      "  128/60000 [..............................] - ETA: 4s - loss: 0.0321 - accuracy: 1.0000Epoch 7/10\n",
      "60000/60000 [==============================] - 3s 47us/step - loss: 0.0617 - accuracy: 0.9821 - val_loss: 0.0860 - val_accuracy: 0.9730\n",
      "60000/60000 [==============================] - 3s 47us/step - loss: 0.0617 - accuracy: 0.9821 - val_loss: 0.0860 - val_accuracy: 0.9730\n",
      "Epoch 8/10\n",
      "  128/60000 [..............................] - ETA: 3s - loss: 0.0535 - accuracy: 0.9922Epoch 8/10\n",
      "60000/60000 [==============================] - 3s 50us/step - loss: 0.0537 - accuracy: 0.9847 - val_loss: 0.0774 - val_accuracy: 0.9751\n",
      "60000/60000 [==============================] - 3s 50us/step - loss: 0.0537 - accuracy: 0.9847 - val_loss: 0.0774 - val_accuracy: 0.9751\n",
      "Epoch 9/10\n",
      "  128/60000 [..............................] - ETA: 5s - loss: 0.0410 - accuracy: 0.9922Epoch 9/10\n",
      "60000/60000 [==============================] - 3s 47us/step - loss: 0.0462 - accuracy: 0.9869 - val_loss: 0.0782 - val_accuracy: 0.9766\n",
      "60000/60000 [==============================] - 3s 47us/step - loss: 0.0462 - accuracy: 0.9869 - val_loss: 0.0782 - val_accuracy: 0.9766\n",
      "Epoch 10/10\n",
      "  128/60000 [..............................] - ETA: 4s - loss: 0.0413 - accuracy: 0.9844Epoch 10/10\n",
      "60000/60000 [==============================] - 3s 54us/step - loss: 0.0407 - accuracy: 0.9885 - val_loss: 0.0815 - val_accuracy: 0.9760\n",
      "60000/60000 [==============================] - 3s 54us/step - loss: 0.0407 - accuracy: 0.9885 - val_loss: 0.0815 - val_accuracy: 0.9760\n"
     ]
    },
    {
     "data": {
      "text/plain": [
       "<keras.callbacks.callbacks.History at 0x24de4efc1c8>"
      ]
     },
     "execution_count": 43,
     "metadata": {},
     "output_type": "execute_result"
    },
    {
     "data": {
      "text/plain": [
       "<keras.callbacks.callbacks.History at 0x24de4efc1c8>"
      ]
     },
     "execution_count": 43,
     "metadata": {},
     "output_type": "execute_result"
    }
   ],
   "source": [
    "# training the model for 10 epochs\n",
    "model.fit(X_train, Y_train, batch_size=128, epochs=10, validation_data=(X_test, y_test))"
   ]
  },
  {
   "cell_type": "code",
   "execution_count": 47,
   "metadata": {},
   "outputs": [],
   "source": [
    "# to calculate accuracy\n",
    "from sklearn.metrics import accuracy_score"
   ]
  },
  {
   "cell_type": "code",
   "execution_count": 45,
   "metadata": {},
   "outputs": [],
   "source": [
    "# compiling the sequential model\n",
    "model.compile(loss='categorical_crossentropy', metrics=['accuracy'], optimizer='adam')\n"
   ]
  },
  {
   "cell_type": "markdown",
   "metadata": {},
   "source": [
    "## Building CNN Model"
   ]
  },
  {
   "cell_type": "code",
   "execution_count": 48,
   "metadata": {},
   "outputs": [
    {
     "name": "stdout",
     "output_type": "stream",
     "text": [
      "Shape before one-hot encoding:  (60000,)\n",
      "Shape after one-hot encoding:  (60000, 10)\n",
      "Shape before one-hot encoding:  (60000,)\n",
      "Shape after one-hot encoding:  (60000, 10)\n",
      "Train on 60000 samples, validate on 10000 samples\n",
      "Epoch 1/10\n",
      "Train on 60000 samples, validate on 10000 samples\n",
      "Epoch 1/10\n",
      "60000/60000 [==============================] - 60s 992us/step - loss: 0.2018 - accuracy: 0.9408 - val_loss: 0.0840 - val_accuracy: 0.9752\n",
      "60000/60000 [==============================] - 60s 992us/step - loss: 0.2018 - accuracy: 0.9408 - val_loss: 0.0840 - val_accuracy: 0.9752\n",
      "Epoch 2/10\n",
      "  128/60000 [..............................] - ETA: 53s - loss: 0.0375 - accuracy: 1.0000Epoch 2/10\n",
      "60000/60000 [==============================] - 58s 973us/step - loss: 0.0646 - accuracy: 0.9808 - val_loss: 0.0617 - val_accuracy: 0.9790\n",
      "60000/60000 [==============================] - 58s 973us/step - loss: 0.0646 - accuracy: 0.9808 - val_loss: 0.0617 - val_accuracy: 0.9790\n",
      "Epoch 3/10\n",
      "  128/60000 [..............................] - ETA: 52s - loss: 0.0218 - accuracy: 0.9922Epoch 3/10\n",
      "60000/60000 [==============================] - 58s 962us/step - loss: 0.0374 - accuracy: 0.9887 - val_loss: 0.0563 - val_accuracy: 0.9826\n",
      "60000/60000 [==============================] - 58s 962us/step - loss: 0.0374 - accuracy: 0.9887 - val_loss: 0.0563 - val_accuracy: 0.9826\n",
      "Epoch 4/10\n",
      "  128/60000 [..............................] - ETA: 42s - loss: 0.0119 - accuracy: 1.0000Epoch 4/10\n",
      "60000/60000 [==============================] - 60s 1ms/step - loss: 0.0226 - accuracy: 0.9935 - val_loss: 0.0575 - val_accuracy: 0.9814\n",
      "60000/60000 [==============================] - 60s 1ms/step - loss: 0.0226 - accuracy: 0.9935 - val_loss: 0.0575 - val_accuracy: 0.9814\n",
      "Epoch 5/10\n",
      "  128/60000 [..............................] - ETA: 1:03 - loss: 0.0362 - accuracy: 0.9922Epoch 5/10\n",
      "60000/60000 [==============================] - 58s 965us/step - loss: 0.0155 - accuracy: 0.9954 - val_loss: 0.0602 - val_accuracy: 0.9808\n",
      "60000/60000 [==============================] - 58s 965us/step - loss: 0.0155 - accuracy: 0.9954 - val_loss: 0.0602 - val_accuracy: 0.9808\n",
      "Epoch 6/10\n",
      "  128/60000 [..............................] - ETA: 47s - loss: 0.0125 - accuracy: 1.0000Epoch 6/10\n",
      "60000/60000 [==============================] - 58s 967us/step - loss: 0.0104 - accuracy: 0.9969 - val_loss: 0.0552 - val_accuracy: 0.9841\n",
      "60000/60000 [==============================] - 58s 967us/step - loss: 0.0104 - accuracy: 0.9969 - val_loss: 0.0552 - val_accuracy: 0.9841\n",
      "Epoch 7/10\n",
      "  128/60000 [..............................] - ETA: 49s - loss: 0.0050 - accuracy: 1.0000Epoch 7/10\n",
      "60000/60000 [==============================] - 56s 932us/step - loss: 0.0082 - accuracy: 0.9975 - val_loss: 0.0570 - val_accuracy: 0.9843\n",
      "60000/60000 [==============================] - 56s 932us/step - loss: 0.0082 - accuracy: 0.9975 - val_loss: 0.0570 - val_accuracy: 0.9843\n",
      "Epoch 8/10\n",
      "  128/60000 [..............................] - ETA: 50s - loss: 0.0150 - accuracy: 0.9922Epoch 8/10\n",
      "60000/60000 [==============================] - 58s 959us/step - loss: 0.0055 - accuracy: 0.9985 - val_loss: 0.0608 - val_accuracy: 0.9841\n",
      "60000/60000 [==============================] - 58s 959us/step - loss: 0.0055 - accuracy: 0.9985 - val_loss: 0.0608 - val_accuracy: 0.9841\n",
      "Epoch 9/10\n",
      "  128/60000 [..............................] - ETA: 48s - loss: 0.0032 - accuracy: 1.0000Epoch 9/10\n",
      "60000/60000 [==============================] - 57s 951us/step - loss: 0.0039 - accuracy: 0.9989 - val_loss: 0.0778 - val_accuracy: 0.9816\n",
      "60000/60000 [==============================] - 57s 951us/step - loss: 0.0039 - accuracy: 0.9989 - val_loss: 0.0778 - val_accuracy: 0.9816\n",
      "Epoch 10/10\n",
      "  128/60000 [..............................] - ETA: 46s - loss: 0.0030 - accuracy: 1.0000Epoch 10/10\n",
      "60000/60000 [==============================] - 54s 895us/step - loss: 0.0074 - accuracy: 0.9974 - val_loss: 0.0728 - val_accuracy: 0.9820\n",
      "60000/60000 [==============================] - 54s 895us/step - loss: 0.0074 - accuracy: 0.9974 - val_loss: 0.0728 - val_accuracy: 0.9820\n"
     ]
    },
    {
     "data": {
      "text/plain": [
       "<keras.callbacks.callbacks.History at 0x24de5068708>"
      ]
     },
     "execution_count": 48,
     "metadata": {},
     "output_type": "execute_result"
    },
    {
     "data": {
      "text/plain": [
       "<keras.callbacks.callbacks.History at 0x24de5068708>"
      ]
     },
     "execution_count": 48,
     "metadata": {},
     "output_type": "execute_result"
    }
   ],
   "source": [
    "# keras imports for the dataset and building our neural network\n",
    "from keras.datasets import mnist\n",
    "from keras.models import Sequential\n",
    "from keras.layers import Dense, Dropout, Conv2D, MaxPool2D, Flatten\n",
    "from keras.utils import np_utils\n",
    "\n",
    "# to calculate accuracy\n",
    "from sklearn.metrics import accuracy_score\n",
    "\n",
    "# loading the dataset\n",
    "(X_train, y_train), (X_test, y_test) = mnist.load_data()\n",
    "\n",
    "# building the input vector from the 28x28 pixels\n",
    "X_train = X_train.reshape(X_train.shape[0], 28, 28, 1)\n",
    "X_test = X_test.reshape(X_test.shape[0], 28, 28, 1)\n",
    "X_train = X_train.astype('float32')\n",
    "X_test = X_test.astype('float32')\n",
    "\n",
    "# normalizing the data to help with the training\n",
    "X_train /= 255\n",
    "X_test /= 255\n",
    "\n",
    "# one-hot encoding using keras' numpy-related utilities\n",
    "n_classes = 10\n",
    "print(\"Shape before one-hot encoding: \", y_train.shape)\n",
    "Y_train = np_utils.to_categorical(y_train, n_classes)\n",
    "Y_test = np_utils.to_categorical(y_test, n_classes)\n",
    "print(\"Shape after one-hot encoding: \", Y_train.shape)\n",
    "\n",
    "# building a linear stack of layers with the sequential model\n",
    "model = Sequential()\n",
    "# convolutional layer\n",
    "model.add(Conv2D(25, kernel_size=(3,3), strides=(1,1), padding='valid', activation='relu', input_shape=(28,28,1)))\n",
    "model.add(MaxPool2D(pool_size=(1,1)))\n",
    "# flatten output of conv\n",
    "model.add(Flatten())\n",
    "# hidden layer\n",
    "model.add(Dense(100, activation='relu'))\n",
    "# output layer\n",
    "model.add(Dense(10, activation='softmax'))\n",
    "\n",
    "# compiling the sequential model\n",
    "model.compile(loss='categorical_crossentropy', metrics=['accuracy'], optimizer='adam')\n",
    "\n",
    "# training the model for 10 epochs\n",
    "model.fit(X_train, Y_train, batch_size=128, epochs=10, validation_data=(X_test, Y_test))"
   ]
  },
  {
   "cell_type": "code",
   "execution_count": null,
   "metadata": {},
   "outputs": [],
   "source": []
  }
 ],
 "metadata": {
  "kernelspec": {
   "display_name": "Python 3",
   "language": "python",
   "name": "python3"
  },
  "language_info": {
   "codemirror_mode": {
    "name": "ipython",
    "version": 3
   },
   "file_extension": ".py",
   "mimetype": "text/x-python",
   "name": "python",
   "nbconvert_exporter": "python",
   "pygments_lexer": "ipython3",
   "version": "3.7.4"
  }
 },
 "nbformat": 4,
 "nbformat_minor": 2
}
